{
  "cells": [
    {
      "cell_type": "markdown",
      "id": "7b030395-ff9d-488b-893a-3f2925d07a29",
      "metadata": {},
      "source": [
        "# BEE 4750 Lab 1: Julia and GitHub Basics\n",
        "\n",
        "**Name**: Isabel Camara\n",
        "\n",
        "**ID**: 5273977\n",
        "\n",
        "> **Due Date**\n",
        ">\n",
        "> Wednesday, 8/28/24, 9:00pm\n",
        "\n",
        "## Setup\n",
        "\n",
        "The following code should go at the top of most Julia scripts; it will\n",
        "load the local package environment and install any needed packages. You\n",
        "will see this often and shouldn’t need to touch it."
      ]
    },
    {
      "cell_type": "code",
      "execution_count": 1,
      "id": "2",
      "metadata": {},
      "outputs": [
        {
          "name": "stderr",
          "output_type": "stream",
          "text": [
            "\u001b[32m\u001b[1m  Activating\u001b[22m\u001b[39m project at `~/lab-1-isabelcamara`\n"
          ]
        }
      ],
      "source": [
        "import Pkg\n",
        "Pkg.activate(\".\")\n",
        "Pkg.instantiate()"
      ]
    },
    {
      "cell_type": "markdown",
      "id": "b0c0f53b-93bc-4baa-8b0e-bdb58e8ff961",
      "metadata": {},
      "source": [
        "This next cell loads packages which are required for the rest of the\n",
        "code evaluation. In this case, we only need to load the `Plots.jl`\n",
        "plotting package, but you will see others over the course of the\n",
        "semester (and can add more if desired; just make sure that you’ve [added\n",
        "the new packages to the\n",
        "environment](https://viveks.me/environmental-systems-analysis/tutorials/julia-basics.html#package-management)).\n",
        "Standard Julia practice is to load all of the needed packages at the top\n",
        "of the file.\n",
        "\n",
        "> **Warning**\n",
        ">\n",
        "> Loading packages can take a while, especially the first time! Julia\n",
        "> tries to precompile all of the packages you’re using so repeat use is\n",
        "> faster, but this can be quite slow at first."
      ]
    },
    {
      "cell_type": "code",
      "execution_count": 12,
      "id": "4",
      "metadata": {},
      "outputs": [],
      "source": [
        "using Plots"
      ]
    },
    {
      "cell_type": "markdown",
      "id": "6d2bc421-d992-4864-a390-fd6d7820f6c0",
      "metadata": {},
      "source": [
        "## Introduction\n",
        "\n",
        "### Julia\n",
        "\n",
        "Julia is an up-and-coming language, originally developed for scientific\n",
        "programming. While learning a new programming language always has its\n",
        "hiccups, the good news is that if you’ve programmed in a high-level\n",
        "language such as Python or MATLAB, most Julia concepts should look\n",
        "familiar.\n",
        "\n",
        "If you have not successfully set up Julia, follow the instructions in\n",
        "[Tools\n",
        "Setup](https://viveks.me/environmental-systems-analysis/setup.html)\n",
        "and/or ask for help.\n",
        "\n",
        "You can use other editors for this course, but our recommendation is\n",
        "[Visual Studio Code](https://code.visualstudio.com/) with the [Julia\n",
        "extension](https://marketplace.visualstudio.com/items?itemName=julialang.language-julia),\n",
        "which will make life a *lot* simpler! You should have set this up by\n",
        "following the [Tools\n",
        "Setup](https://viveks.me/environmental-systems-analysis/setup.html)\n",
        "instructions, but if not, do so now and/or ask for help.\n",
        "\n",
        "### Jupyter Notebooks\n",
        "\n",
        "Jupyter notebooks integrate text and equations in Markdown with Julia\n",
        "(or Python, or R) code. To do this, Jupyter notebooks consist of two\n",
        "types of “cells”: code cells and Markdown (text) cells.\n",
        "\n",
        "Click once on this section of text. A box will appear around this text\n",
        "(and some areas above/below it) - all of that is within this cell.\n",
        "\n",
        "Markdown is a text markup framework for formatting language that makes\n",
        "things look pretty when viewed across different platforms: web browsers,\n",
        "notebooks, and so forth. Text written in Markdown can also include\n",
        "hyperlinks, LaTeX equations, section headers, and images, among other\n",
        "features (most of [the course\n",
        "website](https://viveks.me/climate-risk-analysis) and the lecture notes\n",
        "were all written in Markdown!). [Here is a basic Markdown cheat\n",
        "sheet](https://www.markdownguide.org/cheat-sheet/).\n",
        "\n",
        "What you are looking at right now is the formatted text after the\n",
        "Markdown is processed. To see the raw Markdown, do one of:\n",
        "\n",
        "-   press `Enter` while that cell is selected, or\n",
        "-   double-click on that cell.\n",
        "\n",
        "------------------------------------------------------------------------\n",
        "\n",
        "A couple of the features you will see in this Markdown cell:\n",
        "\n",
        "-   The `---` command creates a horizontal line. This is also nice for\n",
        "    separating sections.\n",
        "-   Backticks (`` `...` ``) can be used to format and highlight code,\n",
        "    keystrokes, etc.\n",
        "-   The `#` sign is used to create a new section header; two `#` signs\n",
        "    (`##`) is used to create a new subsection header; `###` creates a\n",
        "    subsubsection, and so on.\n",
        "-   You can create a bulleted list by using the asterisk `*` or a dash\n",
        "    `-` and a space.\n",
        "-   You can create regular text by just typing as usual.\n",
        "-   You can create **bold-faced text** by wrapping it with two asterisks\n",
        "    on both sides.\n",
        "-   You can create *italicized text* by wrapping it with a single\n",
        "    asterisk on both sides.\n",
        "-   To create a new paragraph, you must include a blank line between the\n",
        "    old and new paragraphs.\n",
        "\n",
        "At this point you might be wondering how to turn this cell back into the\n",
        "fully formatted Markdown text instead of the raw Markdown you’re\n",
        "probably still looking at. You have a couple of options, depending on\n",
        "your platform, but the most consistent is to type `Shift + Enter` to\n",
        "**execute** the cell (this is also how to run code, but more on that\n",
        "later).\n",
        "\n",
        "Additionally, you will frequently need to create new cells in your\n",
        "Jupyter notebooks. How you do this will depend on how you interact with\n",
        "the notebook, but try to figure this out now.\n",
        "\n",
        "One tip is to think carefully about what bits of code should be in the\n",
        "same cell, as you typically only see output from the last command in a\n",
        "cell. For example, compare the following:"
      ]
    },
    {
      "cell_type": "code",
      "execution_count": 22,
      "id": "6",
      "metadata": {},
      "outputs": [
        {
          "data": {
            "text/plain": [
              "-0.9589242746631385"
            ]
          },
          "metadata": {},
          "output_type": "display_data"
        }
      ],
      "source": [
        "x = 5 \n",
        "sin(x)"
      ]
    },
    {
      "cell_type": "markdown",
      "id": "0b56a2f1-81e8-4426-b62a-95cfc3933b92",
      "metadata": {},
      "source": [
        "with"
      ]
    },
    {
      "cell_type": "code",
      "execution_count": 23,
      "id": "8",
      "metadata": {},
      "outputs": [
        {
          "data": {
            "text/plain": [
              "5"
            ]
          },
          "metadata": {},
          "output_type": "display_data"
        }
      ],
      "source": [
        "x = 5"
      ]
    },
    {
      "cell_type": "code",
      "execution_count": 24,
      "id": "10",
      "metadata": {},
      "outputs": [
        {
          "data": {
            "text/plain": [
              "-0.9589242746631385"
            ]
          },
          "metadata": {},
          "output_type": "display_data"
        }
      ],
      "source": [
        "sin(x)"
      ]
    },
    {
      "cell_type": "markdown",
      "id": "474d541d-93e6-47e1-874f-80abd6c9d7cc",
      "metadata": {},
      "source": [
        "In Julia, you can also suppress the output of a command with a\n",
        "semi-colon:"
      ]
    },
    {
      "cell_type": "code",
      "execution_count": 25,
      "id": "12",
      "metadata": {},
      "outputs": [],
      "source": [
        "sin(x);"
      ]
    },
    {
      "cell_type": "markdown",
      "id": "e5950d08-d04e-4fc7-bed8-33e0ee9a1909",
      "metadata": {},
      "source": [
        "which can help if you want to split some code out for clarity or to\n",
        "insert some text prior to it, but don’t want to clutter the notebook\n",
        "with its output.\n",
        "\n",
        "For code cells, to execute the commands within the cell, we also press\n",
        "`Shift+Enter`.\n",
        "\n",
        "Finally, **make sure that you evaluate all of the code cells in order\n",
        "before submitting**. One bad outcome with notebooks occurs when cells\n",
        "are evaluated out of order, so fixed bugs and edits in previous cells do\n",
        "not geta chance to propagate down. You can do this with the `Run All`\n",
        "command in whichever interface you’re using to edit your notebook.\n",
        "\n",
        "### Julia Basics\n",
        "\n",
        "There are many tutorials and references for Julia, including a [basics\n",
        "overview on the class website](../tutorials/julia-basics.html). Please\n",
        "feel free to reference these as you work through any part of the course.\n",
        "\n",
        "### Formatting Math\n",
        "\n",
        "It will often be helpful to include nicely-formatted mathematics in a\n",
        "notebook. Markdown accomodates this using LaTeX syntax. A LaTeX\n",
        "cheatsheet is available on the class website, and many other guides\n",
        "exist online.\n",
        "\n",
        "Below is an example of a formatted equation: $$x = 5.$$\n",
        "\n",
        "### Looking For Help\n",
        "\n",
        "There is no shame in using Google, or other resources, for help when\n",
        "programming. There are many, many times when you can’t quite get the\n",
        "syntax to work, can’t quite figure out the right package or command to\n",
        "use, or are feeling too lazy or overwhelmed (I’m not judging either of\n",
        "those!) to dig through the documentation. Some good resources include:\n",
        "\n",
        "-   [Stack Overflow](https://stackoverflow.com/) is a treasure trove of\n",
        "    answers;\n",
        "-   The [official Julia forum](https://discourse.julialang.org/) and the\n",
        "    [Julia Subreddit](https://www.reddit.com/r/Julia/) are also very\n",
        "    useful.\n",
        "\n",
        "You are also highly encouraged to post on [Ed\n",
        "Discussion](https://us.edstem.org), though getting a response might be\n",
        "less immediate. Just be mindful that to get good answers, [you have to\n",
        "help people help you](https://stackoverflow.com/help/how-to-ask), and\n",
        "**make sure to give credit to any resources that were helpful**!\n",
        "\n",
        "## Exercises (3 points)\n",
        "\n",
        "Use your understanding of Julia syntax and the GitHub workflow to\n",
        "complete the following (hopefully short) exercises. Convert your\n",
        "completed lab assignment to a PDF and submit it to the Gradescope\n",
        "Assignment “Lab 1”.\n",
        "\n",
        "**Remember to**:\n",
        "\n",
        "-   Include a (succint but clear) writeup of the core idea underlying\n",
        "    your code, through some combination of equations, text, and\n",
        "    algorithms. As you are not required to submit your code, we will not\n",
        "    be looking at it in detail, and instead will rely on those writeups\n",
        "    to assess whether your approach is correct.\n",
        "-   If using the notebook, evaluate all of your code cells, in order\n",
        "    (using a `Run All` command). This will make sure all output is\n",
        "    visible and that the code cells were evaluated in the correct order.\n",
        "-   Tag each of the problems when you submit to Gradescope; a 10%\n",
        "    penalty will be deducted if this is not done.\n",
        "\n",
        "### Computing a Dot Product\n",
        "\n",
        "Given two numeric arrays `x` and `y`, write a function to compute their\n",
        "dot product if they have equal length, and return an error if not (this\n",
        "is useful for debugging!). Use the following code as a starting point."
      ]
    },
    {
      "cell_type": "code",
      "execution_count": 51,
      "id": "14",
      "metadata": {},
      "outputs": [
        {
          "data": {
            "text/plain": [
              "dot_product (generic function with 1 method)"
            ]
          },
          "metadata": {},
          "output_type": "display_data"
        }
      ],
      "source": [
        "function dot_product(x, y)\n",
        "    if length(x) == length(y) # insert test condition for equal lengths\n",
        "       sum(x.*y) # compute and return dot product\n",
        "    else\n",
        "        throw(DimensionMismatch(\"length of x not equal to length of y\"))\n",
        "    end\n",
        "end"
      ]
    },
    {
      "cell_type": "markdown",
      "id": "e0ce47a6-a5e8-4cd8-a776-5b04adfa6330",
      "metadata": {},
      "source": [
        "Here are some tests to make sure your code works as intended. Tests like\n",
        "these are useful to make sure everything works as intended. One reason\n",
        "to split your code up into functions is that it makes it straightforward\n",
        "to write tests to make sure each piece of your code works, which makes\n",
        "it easier to identify where errors are occuring."
      ]
    },
    {
      "cell_type": "code",
      "execution_count": 52,
      "id": "16",
      "metadata": {},
      "outputs": [
        {
          "data": {
            "text/plain": [
              "32"
            ]
          },
          "metadata": {},
          "output_type": "display_data"
        }
      ],
      "source": [
        "dot_product([1 2 3], [4 5 6])"
      ]
    },
    {
      "cell_type": "markdown",
      "id": "37f85171-25e8-4513-b57c-af25ff4378e7",
      "metadata": {},
      "source": [
        "If you know the value you should get, you can write a more formal test\n",
        "using the `@assert` macro, which is a good way to “automate” checking\n",
        "(since you get an obvious error if the code doesn’t work as desired):"
      ]
    },
    {
      "cell_type": "code",
      "execution_count": 53,
      "id": "18",
      "metadata": {},
      "outputs": [],
      "source": [
        "@assert dot_product([1 2 3], [4 5 6]) == 32"
      ]
    },
    {
      "cell_type": "markdown",
      "id": "65ccdcd8-449e-4f0c-8f4e-7953ea267f8d",
      "metadata": {},
      "source": [
        "Let’s also make sure we get an error when the dimensions of the two\n",
        "vectors don’t match:"
      ]
    },
    {
      "cell_type": "code",
      "execution_count": 56,
      "id": "20",
      "metadata": {},
      "outputs": [
        {
          "ename": "DimensionMismatch",
          "evalue": "DimensionMismatch: length of x not equal to length of y",
          "output_type": "error",
          "traceback": [
            "DimensionMismatch: length of x not equal to length of y\n",
            "\n",
            "Stacktrace:\n",
            " [1] dot_product(x::Matrix{Int64}, y::Matrix{Int64})\n",
            "   @ Main ~/lab-1-isabelcamara/jl_notebook_cell_df34fa98e69747e1a8f8a730347b8e2f_X15sZmlsZQ==.jl:5\n",
            " [2] top-level scope\n",
            "   @ ~/lab-1-isabelcamara/jl_notebook_cell_df34fa98e69747e1a8f8a730347b8e2f_X24sZmlsZQ==.jl:1"
          ]
        }
      ],
      "source": [
        "dot_product([1 2 3], [4 5])"
      ]
    },
    {
      "cell_type": "markdown",
      "id": "8c069a05-159a-43b4-aa3f-d1fec9a2f727",
      "metadata": {},
      "source": [
        "### Making a Plot\n",
        "\n",
        "Write a function to compute the square of an integer `x`. Evaluate this\n",
        "function for integers between $x=-5$ and $x=5$ and make a plot of the\n",
        "squared values (you can find a quick guide to making various types of\n",
        "plots\n",
        "[here](https://viveks.me/environmental-systems-analysis/tutorials/julia-plots.html)).\n",
        "Make sure to label your axes."
      ]
    },
    {
      "cell_type": "code",
      "execution_count": 1,
      "id": "27e076db",
      "metadata": {},
      "outputs": [
        {
          "data": {
            "image/png": "[encoded data removed]",
            "image/svg+xml": [
              "<?xml version=\"1.0\" encoding=\"utf-8\"?>\n",
              "<svg xmlns=\"http://www.w3.org/2000/svg\" xmlns:xlink=\"http://www.w3.org/1999/xlink\" width=\"600\" height=\"400\" viewBox=\"0 0 2400 1600\">\n",
              "<defs>\n",
              "  <clipPath id=\"clip110\">\n",
              "    <rect x=\"0\" y=\"0\" width=\"2400\" height=\"1600\"/>\n",
              "  </clipPath>\n",
              "</defs>\n",
              "<path clip-path=\"url(#clip110)\" d=\"M0 1600 L2400 1600 L2400 0 L0 0  Z\" fill=\"#ffffff\" fill-rule=\"evenodd\" fill-opacity=\"1\"/>\n",
              "<defs>\n",
              "  <clipPath id=\"clip111\">\n",
              "    <rect x=\"480\" y=\"0\" width=\"1681\" height=\"1600\"/>\n",
              "  </clipPath>\n",
              "</defs>\n",
              "<path clip-path=\"url(#clip110)\" d=\"M203.964 1423.18 L2352.76 1423.18 L2352.76 47.2441 L203.964 47.2441  Z\" fill=\"#ffffff\" fill-rule=\"evenodd\" fill-opacity=\"1\"/>\n",
              "<defs>\n",
              "  <clipPath id=\"clip112\">\n",
              "    <rect x=\"203\" y=\"47\" width=\"2150\" height=\"1377\"/>\n",
              "  </clipPath>\n",
              "</defs>\n",
              "<polyline clip-path=\"url(#clip112)\" style=\"stroke:#000000; stroke-linecap:round; stroke-linejoin:round; stroke-width:2; stroke-opacity:0.1; fill:none\" points=\"467.495,1423.18 467.495,47.2441 \"/>\n",
              "<polyline clip-path=\"url(#clip112)\" style=\"stroke:#000000; stroke-linecap:round; stroke-linejoin:round; stroke-width:2; stroke-opacity:0.1; fill:none\" points=\"872.927,1423.18 872.927,47.2441 \"/>\n",
              "<polyline clip-path=\"url(#clip112)\" style=\"stroke:#000000; stroke-linecap:round; stroke-linejoin:round; stroke-width:2; stroke-opacity:0.1; fill:none\" points=\"1278.36,1423.18 1278.36,47.2441 \"/>\n",
              "<polyline clip-path=\"url(#clip112)\" style=\"stroke:#000000; stroke-linecap:round; stroke-linejoin:round; stroke-width:2; stroke-opacity:0.1; fill:none\" points=\"1683.79,1423.18 1683.79,47.2441 \"/>\n",
              "<polyline clip-path=\"url(#clip112)\" style=\"stroke:#000000; stroke-linecap:round; stroke-linejoin:round; stroke-width:2; stroke-opacity:0.1; fill:none\" points=\"2089.22,1423.18 2089.22,47.2441 \"/>\n",
              "<polyline clip-path=\"url(#clip110)\" style=\"stroke:#000000; stroke-linecap:round; stroke-linejoin:round; stroke-width:4; stroke-opacity:1; fill:none\" points=\"203.964,1423.18 2352.76,1423.18 \"/>\n",
              "<polyline clip-path=\"url(#clip110)\" style=\"stroke:#000000; stroke-linecap:round; stroke-linejoin:round; stroke-width:4; stroke-opacity:1; fill:none\" points=\"467.495,1423.18 467.495,1404.28 \"/>\n",
              "<polyline clip-path=\"url(#clip110)\" style=\"stroke:#000000; stroke-linecap:round; stroke-linejoin:round; stroke-width:4; stroke-opacity:1; fill:none\" points=\"872.927,1423.18 872.927,1404.28 \"/>\n",
              "<polyline clip-path=\"url(#clip110)\" style=\"stroke:#000000; stroke-linecap:round; stroke-linejoin:round; stroke-width:4; stroke-opacity:1; fill:none\" points=\"1278.36,1423.18 1278.36,1404.28 \"/>\n",
              "<polyline clip-path=\"url(#clip110)\" style=\"stroke:#000000; stroke-linecap:round; stroke-linejoin:round; stroke-width:4; stroke-opacity:1; fill:none\" points=\"1683.79,1423.18 1683.79,1404.28 \"/>\n",
              "<polyline clip-path=\"url(#clip110)\" style=\"stroke:#000000; stroke-linecap:round; stroke-linejoin:round; stroke-width:4; stroke-opacity:1; fill:none\" points=\"2089.22,1423.18 2089.22,1404.28 \"/>\n",
              "<path clip-path=\"url(#clip110)\" d=\"M462.148 1481.64 L478.467 1481.64 L478.467 1485.58 L456.523 1485.58 L456.523 1481.64 Q459.185 1478.89 463.768 1474.26 Q468.374 1469.61 469.555 1468.27 Q471.8 1465.74 472.68 1464.01 Q473.583 1462.25 473.583 1460.56 Q473.583 1457.8 471.638 1456.07 Q469.717 1454.33 466.615 1454.33 Q464.416 1454.33 461.962 1455.09 Q459.532 1455.86 456.754 1457.41 L456.754 1452.69 Q459.578 1451.55 462.032 1450.97 Q464.485 1450.39 466.522 1450.39 Q471.893 1450.39 475.087 1453.08 Q478.282 1455.77 478.282 1460.26 Q478.282 1462.39 477.472 1464.31 Q476.684 1466.2 474.578 1468.8 Q473.999 1469.47 470.897 1472.69 Q467.796 1475.88 462.148 1481.64 Z\" fill=\"#000000\" fill-rule=\"nonzero\" fill-opacity=\"1\" /><path clip-path=\"url(#clip110)\" d=\"M875.936 1455.09 L864.131 1473.54 L875.936 1473.54 L875.936 1455.09 M874.71 1451.02 L880.589 1451.02 L880.589 1473.54 L885.52 1473.54 L885.52 1477.43 L880.589 1477.43 L880.589 1485.58 L875.936 1485.58 L875.936 1477.43 L860.335 1477.43 L860.335 1472.92 L874.71 1451.02 Z\" fill=\"#000000\" fill-rule=\"nonzero\" fill-opacity=\"1\" /><path clip-path=\"url(#clip110)\" d=\"M1278.76 1466.44 Q1275.62 1466.44 1273.76 1468.59 Q1271.94 1470.74 1271.94 1474.49 Q1271.94 1478.22 1273.76 1480.39 Q1275.62 1482.55 1278.76 1482.55 Q1281.91 1482.55 1283.74 1480.39 Q1285.59 1478.22 1285.59 1474.49 Q1285.59 1470.74 1283.74 1468.59 Q1281.91 1466.44 1278.76 1466.44 M1288.05 1451.78 L1288.05 1456.04 Q1286.29 1455.21 1284.48 1454.77 Q1282.7 1454.33 1280.94 1454.33 Q1276.31 1454.33 1273.86 1457.45 Q1271.43 1460.58 1271.08 1466.9 Q1272.45 1464.89 1274.51 1463.82 Q1276.57 1462.73 1279.04 1462.73 Q1284.25 1462.73 1287.26 1465.9 Q1290.29 1469.05 1290.29 1474.49 Q1290.29 1479.82 1287.14 1483.03 Q1284 1486.25 1278.76 1486.25 Q1272.77 1486.25 1269.6 1481.67 Q1266.43 1477.06 1266.43 1468.33 Q1266.43 1460.14 1270.32 1455.28 Q1274.2 1450.39 1280.76 1450.39 Q1282.51 1450.39 1284.3 1450.74 Q1286.1 1451.09 1288.05 1451.78 Z\" fill=\"#000000\" fill-rule=\"nonzero\" fill-opacity=\"1\" /><path clip-path=\"url(#clip110)\" d=\"M1683.79 1469.17 Q1680.46 1469.17 1678.54 1470.95 Q1676.64 1472.73 1676.64 1475.86 Q1676.64 1478.98 1678.54 1480.77 Q1680.46 1482.55 1683.79 1482.55 Q1687.13 1482.55 1689.05 1480.77 Q1690.97 1478.96 1690.97 1475.86 Q1690.97 1472.73 1689.05 1470.95 Q1687.15 1469.17 1683.79 1469.17 M1679.12 1467.18 Q1676.11 1466.44 1674.42 1464.38 Q1672.75 1462.32 1672.75 1459.35 Q1672.75 1455.21 1675.69 1452.8 Q1678.65 1450.39 1683.79 1450.39 Q1688.95 1450.39 1691.89 1452.8 Q1694.83 1455.21 1694.83 1459.35 Q1694.83 1462.32 1693.14 1464.38 Q1691.48 1466.44 1688.49 1467.18 Q1691.87 1467.96 1693.75 1470.26 Q1695.64 1472.55 1695.64 1475.86 Q1695.64 1480.88 1692.57 1483.57 Q1689.51 1486.25 1683.79 1486.25 Q1678.07 1486.25 1675 1483.57 Q1671.94 1480.88 1671.94 1475.86 Q1671.94 1472.55 1673.84 1470.26 Q1675.74 1467.96 1679.12 1467.18 M1677.4 1459.79 Q1677.4 1462.48 1679.07 1463.98 Q1680.76 1465.49 1683.79 1465.49 Q1686.8 1465.49 1688.49 1463.98 Q1690.2 1462.48 1690.2 1459.79 Q1690.2 1457.11 1688.49 1455.6 Q1686.8 1454.1 1683.79 1454.1 Q1680.76 1454.1 1679.07 1455.6 Q1677.4 1457.11 1677.4 1459.79 Z\" fill=\"#000000\" fill-rule=\"nonzero\" fill-opacity=\"1\" /><path clip-path=\"url(#clip110)\" d=\"M2063.91 1481.64 L2071.55 1481.64 L2071.55 1455.28 L2063.24 1456.95 L2063.24 1452.69 L2071.5 1451.02 L2076.18 1451.02 L2076.18 1481.64 L2083.82 1481.64 L2083.82 1485.58 L2063.91 1485.58 L2063.91 1481.64 Z\" fill=\"#000000\" fill-rule=\"nonzero\" fill-opacity=\"1\" /><path clip-path=\"url(#clip110)\" d=\"M2103.26 1454.1 Q2099.65 1454.1 2097.82 1457.66 Q2096.02 1461.2 2096.02 1468.33 Q2096.02 1475.44 2097.82 1479.01 Q2099.65 1482.55 2103.26 1482.55 Q2106.9 1482.55 2108.7 1479.01 Q2110.53 1475.44 2110.53 1468.33 Q2110.53 1461.2 2108.7 1457.66 Q2106.9 1454.1 2103.26 1454.1 M2103.26 1450.39 Q2109.07 1450.39 2112.13 1455 Q2115.21 1459.58 2115.21 1468.33 Q2115.21 1477.06 2112.13 1481.67 Q2109.07 1486.25 2103.26 1486.25 Q2097.45 1486.25 2094.38 1481.67 Q2091.32 1477.06 2091.32 1468.33 Q2091.32 1459.58 2094.38 1455 Q2097.45 1450.39 2103.26 1450.39 Z\" fill=\"#000000\" fill-rule=\"nonzero\" fill-opacity=\"1\" /><path clip-path=\"url(#clip110)\" d=\"M1164.75 1532.4 L1170.6 1532.4 L1170.6 1568.04 L1164.75 1568.04 L1164.75 1532.4 M1164.75 1518.52 L1170.6 1518.52 L1170.6 1525.93 L1164.75 1525.93 L1164.75 1518.52 Z\" fill=\"#000000\" fill-rule=\"nonzero\" fill-opacity=\"1\" /><path clip-path=\"url(#clip110)\" d=\"M1212.49 1546.53 L1212.49 1568.04 L1206.63 1568.04 L1206.63 1546.72 Q1206.63 1541.66 1204.66 1539.14 Q1202.69 1536.63 1198.74 1536.63 Q1194 1536.63 1191.26 1539.65 Q1188.52 1542.68 1188.52 1547.9 L1188.52 1568.04 L1182.64 1568.04 L1182.64 1532.4 L1188.52 1532.4 L1188.52 1537.93 Q1190.62 1534.72 1193.46 1533.13 Q1196.32 1531.54 1200.05 1531.54 Q1206.19 1531.54 1209.34 1535.36 Q1212.49 1539.14 1212.49 1546.53 Z\" fill=\"#000000\" fill-rule=\"nonzero\" fill-opacity=\"1\" /><path clip-path=\"url(#clip110)\" d=\"M1229.96 1522.27 L1229.96 1532.4 L1242.03 1532.4 L1242.03 1536.95 L1229.96 1536.95 L1229.96 1556.3 Q1229.96 1560.66 1231.14 1561.9 Q1232.35 1563.14 1236.01 1563.14 L1242.03 1563.14 L1242.03 1568.04 L1236.01 1568.04 Q1229.23 1568.04 1226.65 1565.53 Q1224.08 1562.98 1224.08 1556.3 L1224.08 1536.95 L1219.78 1536.95 L1219.78 1532.4 L1224.08 1532.4 L1224.08 1522.27 L1229.96 1522.27 Z\" fill=\"#000000\" fill-rule=\"nonzero\" fill-opacity=\"1\" /><path clip-path=\"url(#clip110)\" d=\"M1280.22 1548.76 L1280.22 1551.62 L1253.29 1551.62 Q1253.68 1557.67 1256.92 1560.85 Q1260.2 1564 1266.03 1564 Q1269.4 1564 1272.55 1563.17 Q1275.73 1562.35 1278.85 1560.69 L1278.85 1566.23 Q1275.7 1567.57 1272.39 1568.27 Q1269.08 1568.97 1265.68 1568.97 Q1257.15 1568.97 1252.15 1564 Q1247.18 1559.04 1247.18 1550.57 Q1247.18 1541.82 1251.89 1536.69 Q1256.64 1531.54 1264.66 1531.54 Q1271.85 1531.54 1276.02 1536.18 Q1280.22 1540.8 1280.22 1548.76 M1274.37 1547.04 Q1274.3 1542.23 1271.66 1539.37 Q1269.05 1536.5 1264.72 1536.5 Q1259.82 1536.5 1256.86 1539.27 Q1253.93 1542.04 1253.49 1547.07 L1274.37 1547.04 Z\" fill=\"#000000\" fill-rule=\"nonzero\" fill-opacity=\"1\" /><path clip-path=\"url(#clip110)\" d=\"M1313.29 1549.81 Q1313.29 1543.44 1310.65 1539.94 Q1308.04 1536.44 1303.3 1536.44 Q1298.59 1536.44 1295.95 1539.94 Q1293.34 1543.44 1293.34 1549.81 Q1293.34 1556.14 1295.95 1559.64 Q1298.59 1563.14 1303.3 1563.14 Q1308.04 1563.14 1310.65 1559.64 Q1313.29 1556.14 1313.29 1549.81 M1319.15 1563.62 Q1319.15 1572.72 1315.11 1577.15 Q1311.06 1581.6 1302.72 1581.6 Q1299.64 1581.6 1296.9 1581.13 Q1294.16 1580.68 1291.58 1579.72 L1291.58 1574.03 Q1294.16 1575.43 1296.68 1576.1 Q1299.19 1576.76 1301.8 1576.76 Q1307.56 1576.76 1310.43 1573.74 Q1313.29 1570.75 1313.29 1564.67 L1313.29 1561.77 Q1311.48 1564.92 1308.64 1566.48 Q1305.81 1568.04 1301.87 1568.04 Q1295.31 1568.04 1291.3 1563.05 Q1287.29 1558.05 1287.29 1549.81 Q1287.29 1541.53 1291.3 1536.53 Q1295.31 1531.54 1301.87 1531.54 Q1305.81 1531.54 1308.64 1533.1 Q1311.48 1534.66 1313.29 1537.81 L1313.29 1532.4 L1319.15 1532.4 L1319.15 1563.62 Z\" fill=\"#000000\" fill-rule=\"nonzero\" fill-opacity=\"1\" /><path clip-path=\"url(#clip110)\" d=\"M1361.7 1548.76 L1361.7 1551.62 L1334.78 1551.62 Q1335.16 1557.67 1338.4 1560.85 Q1341.68 1564 1347.51 1564 Q1350.88 1564 1354.03 1563.17 Q1357.21 1562.35 1360.33 1560.69 L1360.33 1566.23 Q1357.18 1567.57 1353.87 1568.27 Q1350.56 1568.97 1347.16 1568.97 Q1338.63 1568.97 1333.63 1564 Q1328.66 1559.04 1328.66 1550.57 Q1328.66 1541.82 1333.38 1536.69 Q1338.12 1531.54 1346.14 1531.54 Q1353.33 1531.54 1357.5 1536.18 Q1361.7 1540.8 1361.7 1548.76 M1355.85 1547.04 Q1355.78 1542.23 1353.14 1539.37 Q1350.53 1536.5 1346.2 1536.5 Q1341.3 1536.5 1338.34 1539.27 Q1335.41 1542.04 1334.97 1547.07 L1355.85 1547.04 Z\" fill=\"#000000\" fill-rule=\"nonzero\" fill-opacity=\"1\" /><path clip-path=\"url(#clip110)\" d=\"M1391.97 1537.87 Q1390.99 1537.3 1389.81 1537.04 Q1388.66 1536.76 1387.26 1536.76 Q1382.3 1536.76 1379.62 1540 Q1376.98 1543.22 1376.98 1549.27 L1376.98 1568.04 L1371.09 1568.04 L1371.09 1532.4 L1376.98 1532.4 L1376.98 1537.93 Q1378.83 1534.69 1381.79 1533.13 Q1384.75 1531.54 1388.98 1531.54 Q1389.58 1531.54 1390.32 1531.63 Q1391.05 1531.7 1391.94 1531.85 L1391.97 1537.87 Z\" fill=\"#000000\" fill-rule=\"nonzero\" fill-opacity=\"1\" /><polyline clip-path=\"url(#clip112)\" style=\"stroke:#000000; stroke-linecap:round; stroke-linejoin:round; stroke-width:2; stroke-opacity:0.1; fill:none\" points=\"203.964,1384.24 2352.76,1384.24 \"/>\n",
              "<polyline clip-path=\"url(#clip112)\" style=\"stroke:#000000; stroke-linecap:round; stroke-linejoin:round; stroke-width:2; stroke-opacity:0.1; fill:none\" points=\"203.964,1124.63 2352.76,1124.63 \"/>\n",
              "<polyline clip-path=\"url(#clip112)\" style=\"stroke:#000000; stroke-linecap:round; stroke-linejoin:round; stroke-width:2; stroke-opacity:0.1; fill:none\" points=\"203.964,865.017 2352.76,865.017 \"/>\n",
              "<polyline clip-path=\"url(#clip112)\" style=\"stroke:#000000; stroke-linecap:round; stroke-linejoin:round; stroke-width:2; stroke-opacity:0.1; fill:none\" points=\"203.964,605.407 2352.76,605.407 \"/>\n",
              "<polyline clip-path=\"url(#clip112)\" style=\"stroke:#000000; stroke-linecap:round; stroke-linejoin:round; stroke-width:2; stroke-opacity:0.1; fill:none\" points=\"203.964,345.796 2352.76,345.796 \"/>\n",
              "<polyline clip-path=\"url(#clip112)\" style=\"stroke:#000000; stroke-linecap:round; stroke-linejoin:round; stroke-width:2; stroke-opacity:0.1; fill:none\" points=\"203.964,86.1857 2352.76,86.1857 \"/>\n",
              "<polyline clip-path=\"url(#clip110)\" style=\"stroke:#000000; stroke-linecap:round; stroke-linejoin:round; stroke-width:4; stroke-opacity:1; fill:none\" points=\"203.964,1423.18 203.964,47.2441 \"/>\n",
              "<polyline clip-path=\"url(#clip110)\" style=\"stroke:#000000; stroke-linecap:round; stroke-linejoin:round; stroke-width:4; stroke-opacity:1; fill:none\" points=\"203.964,1384.24 222.861,1384.24 \"/>\n",
              "<polyline clip-path=\"url(#clip110)\" style=\"stroke:#000000; stroke-linecap:round; stroke-linejoin:round; stroke-width:4; stroke-opacity:1; fill:none\" points=\"203.964,1124.63 222.861,1124.63 \"/>\n",
              "<polyline clip-path=\"url(#clip110)\" style=\"stroke:#000000; stroke-linecap:round; stroke-linejoin:round; stroke-width:4; stroke-opacity:1; fill:none\" points=\"203.964,865.017 222.861,865.017 \"/>\n",
              "<polyline clip-path=\"url(#clip110)\" style=\"stroke:#000000; stroke-linecap:round; stroke-linejoin:round; stroke-width:4; stroke-opacity:1; fill:none\" points=\"203.964,605.407 222.861,605.407 \"/>\n",
              "<polyline clip-path=\"url(#clip110)\" style=\"stroke:#000000; stroke-linecap:round; stroke-linejoin:round; stroke-width:4; stroke-opacity:1; fill:none\" points=\"203.964,345.796 222.861,345.796 \"/>\n",
              "<polyline clip-path=\"url(#clip110)\" style=\"stroke:#000000; stroke-linecap:round; stroke-linejoin:round; stroke-width:4; stroke-opacity:1; fill:none\" points=\"203.964,86.1857 222.861,86.1857 \"/>\n",
              "<path clip-path=\"url(#clip110)\" d=\"M156.019 1370.04 Q152.408 1370.04 150.579 1373.6 Q148.774 1377.14 148.774 1384.27 Q148.774 1391.38 150.579 1394.94 Q152.408 1398.49 156.019 1398.49 Q159.653 1398.49 161.459 1394.94 Q163.288 1391.38 163.288 1384.27 Q163.288 1377.14 161.459 1373.6 Q159.653 1370.04 156.019 1370.04 M156.019 1366.33 Q161.829 1366.33 164.885 1370.94 Q167.964 1375.52 167.964 1384.27 Q167.964 1393 164.885 1397.61 Q161.829 1402.19 156.019 1402.19 Q150.209 1402.19 147.13 1397.61 Q144.075 1393 144.075 1384.27 Q144.075 1375.52 147.13 1370.94 Q150.209 1366.33 156.019 1366.33 Z\" fill=\"#000000\" fill-rule=\"nonzero\" fill-opacity=\"1\" /><path clip-path=\"url(#clip110)\" d=\"M147.061 1107.35 L165.417 1107.35 L165.417 1111.28 L151.343 1111.28 L151.343 1119.76 Q152.362 1119.41 153.38 1119.25 Q154.399 1119.06 155.417 1119.06 Q161.204 1119.06 164.584 1122.23 Q167.964 1125.4 167.964 1130.82 Q167.964 1136.4 164.491 1139.5 Q161.019 1142.58 154.7 1142.58 Q152.524 1142.58 150.255 1142.21 Q148.01 1141.84 145.603 1141.1 L145.603 1136.4 Q147.686 1137.53 149.908 1138.09 Q152.13 1138.64 154.607 1138.64 Q158.612 1138.64 160.95 1136.54 Q163.288 1134.43 163.288 1130.82 Q163.288 1127.21 160.95 1125.1 Q158.612 1123 154.607 1123 Q152.732 1123 150.857 1123.41 Q149.005 1123.83 147.061 1124.71 L147.061 1107.35 Z\" fill=\"#000000\" fill-rule=\"nonzero\" fill-opacity=\"1\" /><path clip-path=\"url(#clip110)\" d=\"M116.668 878.362 L124.306 878.362 L124.306 851.996 L115.996 853.663 L115.996 849.404 L124.26 847.737 L128.936 847.737 L128.936 878.362 L136.575 878.362 L136.575 882.297 L116.668 882.297 L116.668 878.362 Z\" fill=\"#000000\" fill-rule=\"nonzero\" fill-opacity=\"1\" /><path clip-path=\"url(#clip110)\" d=\"M156.019 850.816 Q152.408 850.816 150.579 854.381 Q148.774 857.922 148.774 865.052 Q148.774 872.158 150.579 875.723 Q152.408 879.265 156.019 879.265 Q159.653 879.265 161.459 875.723 Q163.288 872.158 163.288 865.052 Q163.288 857.922 161.459 854.381 Q159.653 850.816 156.019 850.816 M156.019 847.112 Q161.829 847.112 164.885 851.719 Q167.964 856.302 167.964 865.052 Q167.964 873.779 164.885 878.385 Q161.829 882.969 156.019 882.969 Q150.209 882.969 147.13 878.385 Q144.075 873.779 144.075 865.052 Q144.075 856.302 147.13 851.719 Q150.209 847.112 156.019 847.112 Z\" fill=\"#000000\" fill-rule=\"nonzero\" fill-opacity=\"1\" /><path clip-path=\"url(#clip110)\" d=\"M117.663 618.752 L125.302 618.752 L125.302 592.386 L116.992 594.053 L116.992 589.793 L125.255 588.127 L129.931 588.127 L129.931 618.752 L137.57 618.752 L137.57 622.687 L117.663 622.687 L117.663 618.752 Z\" fill=\"#000000\" fill-rule=\"nonzero\" fill-opacity=\"1\" /><path clip-path=\"url(#clip110)\" d=\"M147.061 588.127 L165.417 588.127 L165.417 592.062 L151.343 592.062 L151.343 600.534 Q152.362 600.187 153.38 600.025 Q154.399 599.84 155.417 599.84 Q161.204 599.84 164.584 603.011 Q167.964 606.182 167.964 611.599 Q167.964 617.177 164.491 620.279 Q161.019 623.358 154.7 623.358 Q152.524 623.358 150.255 622.988 Q148.01 622.617 145.603 621.877 L145.603 617.177 Q147.686 618.312 149.908 618.867 Q152.13 619.423 154.607 619.423 Q158.612 619.423 160.95 617.316 Q163.288 615.21 163.288 611.599 Q163.288 607.988 160.95 605.881 Q158.612 603.775 154.607 603.775 Q152.732 603.775 150.857 604.191 Q149.005 604.608 147.061 605.488 L147.061 588.127 Z\" fill=\"#000000\" fill-rule=\"nonzero\" fill-opacity=\"1\" /><path clip-path=\"url(#clip110)\" d=\"M119.885 359.141 L136.204 359.141 L136.204 363.076 L114.26 363.076 L114.26 359.141 Q116.922 356.386 121.505 351.757 Q126.112 347.104 127.292 345.761 Q129.538 343.238 130.417 341.502 Q131.32 339.743 131.32 338.053 Q131.32 335.299 129.376 333.562 Q127.455 331.826 124.353 331.826 Q122.154 331.826 119.7 332.59 Q117.269 333.354 114.492 334.905 L114.492 330.183 Q117.316 329.049 119.769 328.47 Q122.223 327.891 124.26 327.891 Q129.63 327.891 132.825 330.576 Q136.019 333.262 136.019 337.752 Q136.019 339.882 135.209 341.803 Q134.422 343.701 132.316 346.294 Q131.737 346.965 128.635 350.183 Q125.533 353.377 119.885 359.141 Z\" fill=\"#000000\" fill-rule=\"nonzero\" fill-opacity=\"1\" /><path clip-path=\"url(#clip110)\" d=\"M156.019 331.595 Q152.408 331.595 150.579 335.16 Q148.774 338.701 148.774 345.831 Q148.774 352.937 150.579 356.502 Q152.408 360.044 156.019 360.044 Q159.653 360.044 161.459 356.502 Q163.288 352.937 163.288 345.831 Q163.288 338.701 161.459 335.16 Q159.653 331.595 156.019 331.595 M156.019 327.891 Q161.829 327.891 164.885 332.498 Q167.964 337.081 167.964 345.831 Q167.964 354.558 164.885 359.164 Q161.829 363.747 156.019 363.747 Q150.209 363.747 147.13 359.164 Q144.075 354.558 144.075 345.831 Q144.075 337.081 147.13 332.498 Q150.209 327.891 156.019 327.891 Z\" fill=\"#000000\" fill-rule=\"nonzero\" fill-opacity=\"1\" /><path clip-path=\"url(#clip110)\" d=\"M120.88 99.5305 L137.2 99.5305 L137.2 103.466 L115.256 103.466 L115.256 99.5305 Q117.918 96.7759 122.501 92.1463 Q127.107 87.4935 128.288 86.151 Q130.533 83.6278 131.413 81.8917 Q132.316 80.1325 132.316 78.4427 Q132.316 75.688 130.371 73.9519 Q128.45 72.2158 125.348 72.2158 Q123.149 72.2158 120.695 72.9797 Q118.265 73.7436 115.487 75.2945 L115.487 70.5723 Q118.311 69.4381 120.765 68.8594 Q123.218 68.2807 125.255 68.2807 Q130.626 68.2807 133.82 70.9658 Q137.015 73.651 137.015 78.1417 Q137.015 80.2714 136.204 82.1926 Q135.417 84.0908 133.311 86.6834 Q132.732 87.3546 129.63 90.5722 Q126.529 93.7667 120.88 99.5305 Z\" fill=\"#000000\" fill-rule=\"nonzero\" fill-opacity=\"1\" /><path clip-path=\"url(#clip110)\" d=\"M147.061 68.9057 L165.417 68.9057 L165.417 72.8408 L151.343 72.8408 L151.343 81.313 Q152.362 80.9658 153.38 80.8038 Q154.399 80.6186 155.417 80.6186 Q161.204 80.6186 164.584 83.7899 Q167.964 86.9611 167.964 92.3778 Q167.964 97.9564 164.491 101.058 Q161.019 104.137 154.7 104.137 Q152.524 104.137 150.255 103.767 Q148.01 103.396 145.603 102.655 L145.603 97.9564 Q147.686 99.0907 149.908 99.6462 Q152.13 100.202 154.607 100.202 Q158.612 100.202 160.95 98.0953 Q163.288 95.9889 163.288 92.3778 Q163.288 88.7667 160.95 86.6602 Q158.612 84.5537 154.607 84.5537 Q152.732 84.5537 150.857 84.9704 Q149.005 85.3871 147.061 86.2667 L147.061 68.9057 Z\" fill=\"#000000\" fill-rule=\"nonzero\" fill-opacity=\"1\" /><path clip-path=\"url(#clip110)\" d=\"M67.3143 808.561 Q73.68 811.043 75.6216 813.399 Q77.5631 815.754 77.5631 819.701 L77.5631 824.38 L72.6615 824.38 L72.6615 820.942 Q72.6615 818.523 71.5157 817.186 Q70.3699 815.85 66.1048 814.226 L63.4312 813.176 L28.3562 827.594 L28.3562 821.388 L56.238 810.248 L28.3562 799.108 L28.3562 792.901 L67.3143 808.561 Z\" fill=\"#000000\" fill-rule=\"nonzero\" fill-opacity=\"1\" /><path clip-path=\"url(#clip110)\" d=\"M46.0847 747.896 Q46.0847 754.993 47.7079 757.731 Q49.3312 760.468 53.2461 760.468 Q56.3653 760.468 58.2114 758.431 Q60.0256 756.362 60.0256 752.829 Q60.0256 747.959 56.5881 745.031 Q53.1188 742.071 47.3897 742.071 L46.0847 742.071 L46.0847 747.896 M43.6657 736.215 L64.0042 736.215 L64.0042 742.071 L58.5933 742.071 Q61.8398 744.076 63.3994 747.068 Q64.9272 750.06 64.9272 754.389 Q64.9272 759.863 61.8716 763.11 Q58.7843 766.324 53.6281 766.324 Q47.6125 766.324 44.5569 762.314 Q41.5014 758.272 41.5014 750.283 L41.5014 742.071 L40.9285 742.071 Q36.8862 742.071 34.6901 744.745 Q32.4621 747.386 32.4621 752.192 Q32.4621 755.248 33.1941 758.144 Q33.9262 761.041 35.3903 763.714 L29.9795 763.714 Q28.7381 760.5 28.1334 757.476 Q27.4968 754.452 27.4968 751.588 Q27.4968 743.853 31.5072 740.034 Q35.5176 736.215 43.6657 736.215 Z\" fill=\"#000000\" fill-rule=\"nonzero\" fill-opacity=\"1\" /><path clip-path=\"url(#clip110)\" d=\"M28.3562 694.519 L45.7028 707.41 L64.0042 693.851 L64.0042 700.758 L49.9996 711.134 L64.0042 721.51 L64.0042 728.417 L45.3526 714.571 L28.3562 727.239 L28.3562 720.332 L41.0558 710.879 L28.3562 701.426 L28.3562 694.519 Z\" fill=\"#000000\" fill-rule=\"nonzero\" fill-opacity=\"1\" /><path clip-path=\"url(#clip110)\" d=\"M28.3562 685.575 L28.3562 679.719 L64.0042 679.719 L64.0042 685.575 L28.3562 685.575 M14.479 685.575 L14.479 679.719 L21.895 679.719 L21.895 685.575 L14.479 685.575 Z\" fill=\"#000000\" fill-rule=\"nonzero\" fill-opacity=\"1\" /><path clip-path=\"url(#clip110)\" d=\"M29.4065 644.739 L34.9447 644.739 Q33.6716 647.222 33.035 649.896 Q32.3984 652.569 32.3984 655.434 Q32.3984 659.794 33.7352 661.99 Q35.072 664.155 37.7456 664.155 Q39.7826 664.155 40.9603 662.595 Q42.1061 661.036 43.1565 656.325 L43.6021 654.32 Q44.9389 648.081 47.3897 645.471 Q49.8086 642.83 54.1691 642.83 Q59.1344 642.83 62.0308 646.776 Q64.9272 650.691 64.9272 657.566 Q64.9272 660.431 64.3543 663.55 Q63.8132 666.637 62.6992 670.075 L56.6518 670.075 Q58.3387 666.828 59.198 663.677 Q60.0256 660.526 60.0256 657.439 Q60.0256 653.301 58.6251 651.073 Q57.1929 648.845 54.6147 648.845 Q52.2276 648.845 50.9545 650.468 Q49.6813 652.06 48.5037 657.503 L48.0262 659.54 Q46.8804 664.982 44.5251 667.401 Q42.138 669.82 38.0002 669.82 Q32.9713 669.82 30.2341 666.255 Q27.4968 662.691 27.4968 656.134 Q27.4968 652.887 27.9743 650.023 Q28.4517 647.158 29.4065 644.739 Z\" fill=\"#000000\" fill-rule=\"nonzero\" fill-opacity=\"1\" /><polyline clip-path=\"url(#clip112)\" style=\"stroke:#009af9; stroke-linecap:round; stroke-linejoin:round; stroke-width:4; stroke-opacity:1; fill:none\" points=\"264.778,86.1857 467.495,553.485 670.211,916.939 872.927,1176.55 1075.64,1332.32 1278.36,1384.24 1481.08,1332.32 1683.79,1176.55 1886.51,916.939 2089.22,553.485 2291.94,86.1857 \"/>\n",
              "<path clip-path=\"url(#clip110)\" d=\"M2013.82 1377.32 L2281.13 1377.32 L2281.13 1273.64 L2013.82 1273.64  Z\" fill=\"#ffffff\" fill-rule=\"evenodd\" fill-opacity=\"1\"/>\n",
              "<polyline clip-path=\"url(#clip110)\" style=\"stroke:#000000; stroke-linecap:round; stroke-linejoin:round; stroke-width:4; stroke-opacity:1; fill:none\" points=\"2013.82,1377.32 2281.13,1377.32 2281.13,1273.64 2013.82,1273.64 2013.82,1377.32 \"/>\n",
              "<polyline clip-path=\"url(#clip110)\" style=\"stroke:#009af9; stroke-linecap:round; stroke-linejoin:round; stroke-width:4; stroke-opacity:1; fill:none\" points=\"2037.7,1325.48 2180.95,1325.48 \"/>\n",
              "<path clip-path=\"url(#clip110)\" d=\"M2218.67 1345.16 Q2216.86 1349.79 2215.15 1351.2 Q2213.43 1352.62 2210.56 1352.62 L2207.16 1352.62 L2207.16 1349.05 L2209.66 1349.05 Q2211.42 1349.05 2212.39 1348.22 Q2213.37 1347.38 2214.55 1344.28 L2215.31 1342.34 L2204.82 1316.83 L2209.34 1316.83 L2217.44 1337.11 L2225.54 1316.83 L2230.06 1316.83 L2218.67 1345.16 Z\" fill=\"#000000\" fill-rule=\"nonzero\" fill-opacity=\"1\" /><path clip-path=\"url(#clip110)\" d=\"M2237.35 1338.82 L2244.99 1338.82 L2244.99 1312.45 L2236.68 1314.12 L2236.68 1309.86 L2244.94 1308.2 L2249.62 1308.2 L2249.62 1338.82 L2257.25 1338.82 L2257.25 1342.76 L2237.35 1342.76 L2237.35 1338.82 Z\" fill=\"#000000\" fill-rule=\"nonzero\" fill-opacity=\"1\" /></svg>\n"
            ],
            "text/html": [
              "<?xml version=\"1.0\" encoding=\"utf-8\"?>\n",
              "<svg xmlns=\"http://www.w3.org/2000/svg\" xmlns:xlink=\"http://www.w3.org/1999/xlink\" width=\"600\" height=\"400\" viewBox=\"0 0 2400 1600\">\n",
              "<defs>\n",
              "  <clipPath id=\"clip160\">\n",
              "    <rect x=\"0\" y=\"0\" width=\"2400\" height=\"1600\"/>\n",
              "  </clipPath>\n",
              "</defs>\n",
              "<path clip-path=\"url(#clip160)\" d=\"M0 1600 L2400 1600 L2400 0 L0 0  Z\" fill=\"#ffffff\" fill-rule=\"evenodd\" fill-opacity=\"1\"/>\n",
              "<defs>\n",
              "  <clipPath id=\"clip161\">\n",
              "    <rect x=\"480\" y=\"0\" width=\"1681\" height=\"1600\"/>\n",
              "  </clipPath>\n",
              "</defs>\n",
              "<path clip-path=\"url(#clip160)\" d=\"M203.964 1423.18 L2352.76 1423.18 L2352.76 47.2441 L203.964 47.2441  Z\" fill=\"#ffffff\" fill-rule=\"evenodd\" fill-opacity=\"1\"/>\n",
              "<defs>\n",
              "  <clipPath id=\"clip162\">\n",
              "    <rect x=\"203\" y=\"47\" width=\"2150\" height=\"1377\"/>\n",
              "  </clipPath>\n",
              "</defs>\n",
              "<polyline clip-path=\"url(#clip162)\" style=\"stroke:#000000; stroke-linecap:round; stroke-linejoin:round; stroke-width:2; stroke-opacity:0.1; fill:none\" points=\"467.495,1423.18 467.495,47.2441 \"/>\n",
              "<polyline clip-path=\"url(#clip162)\" style=\"stroke:#000000; stroke-linecap:round; stroke-linejoin:round; stroke-width:2; stroke-opacity:0.1; fill:none\" points=\"872.927,1423.18 872.927,47.2441 \"/>\n",
              "<polyline clip-path=\"url(#clip162)\" style=\"stroke:#000000; stroke-linecap:round; stroke-linejoin:round; stroke-width:2; stroke-opacity:0.1; fill:none\" points=\"1278.36,1423.18 1278.36,47.2441 \"/>\n",
              "<polyline clip-path=\"url(#clip162)\" style=\"stroke:#000000; stroke-linecap:round; stroke-linejoin:round; stroke-width:2; stroke-opacity:0.1; fill:none\" points=\"1683.79,1423.18 1683.79,47.2441 \"/>\n",
              "<polyline clip-path=\"url(#clip162)\" style=\"stroke:#000000; stroke-linecap:round; stroke-linejoin:round; stroke-width:2; stroke-opacity:0.1; fill:none\" points=\"2089.22,1423.18 2089.22,47.2441 \"/>\n",
              "<polyline clip-path=\"url(#clip160)\" style=\"stroke:#000000; stroke-linecap:round; stroke-linejoin:round; stroke-width:4; stroke-opacity:1; fill:none\" points=\"203.964,1423.18 2352.76,1423.18 \"/>\n",
              "<polyline clip-path=\"url(#clip160)\" style=\"stroke:#000000; stroke-linecap:round; stroke-linejoin:round; stroke-width:4; stroke-opacity:1; fill:none\" points=\"467.495,1423.18 467.495,1404.28 \"/>\n",
              "<polyline clip-path=\"url(#clip160)\" style=\"stroke:#000000; stroke-linecap:round; stroke-linejoin:round; stroke-width:4; stroke-opacity:1; fill:none\" points=\"872.927,1423.18 872.927,1404.28 \"/>\n",
              "<polyline clip-path=\"url(#clip160)\" style=\"stroke:#000000; stroke-linecap:round; stroke-linejoin:round; stroke-width:4; stroke-opacity:1; fill:none\" points=\"1278.36,1423.18 1278.36,1404.28 \"/>\n",
              "<polyline clip-path=\"url(#clip160)\" style=\"stroke:#000000; stroke-linecap:round; stroke-linejoin:round; stroke-width:4; stroke-opacity:1; fill:none\" points=\"1683.79,1423.18 1683.79,1404.28 \"/>\n",
              "<polyline clip-path=\"url(#clip160)\" style=\"stroke:#000000; stroke-linecap:round; stroke-linejoin:round; stroke-width:4; stroke-opacity:1; fill:none\" points=\"2089.22,1423.18 2089.22,1404.28 \"/>\n",
              "<path clip-path=\"url(#clip160)\" d=\"M462.148 1481.64 L478.467 1481.64 L478.467 1485.58 L456.523 1485.58 L456.523 1481.64 Q459.185 1478.89 463.768 1474.26 Q468.374 1469.61 469.555 1468.27 Q471.8 1465.74 472.68 1464.01 Q473.583 1462.25 473.583 1460.56 Q473.583 1457.8 471.638 1456.07 Q469.717 1454.33 466.615 1454.33 Q464.416 1454.33 461.962 1455.09 Q459.532 1455.86 456.754 1457.41 L456.754 1452.69 Q459.578 1451.55 462.032 1450.97 Q464.485 1450.39 466.522 1450.39 Q471.893 1450.39 475.087 1453.08 Q478.282 1455.77 478.282 1460.26 Q478.282 1462.39 477.472 1464.31 Q476.684 1466.2 474.578 1468.8 Q473.999 1469.47 470.897 1472.69 Q467.796 1475.88 462.148 1481.64 Z\" fill=\"#000000\" fill-rule=\"nonzero\" fill-opacity=\"1\" /><path clip-path=\"url(#clip160)\" d=\"M875.936 1455.09 L864.131 1473.54 L875.936 1473.54 L875.936 1455.09 M874.71 1451.02 L880.589 1451.02 L880.589 1473.54 L885.52 1473.54 L885.52 1477.43 L880.589 1477.43 L880.589 1485.58 L875.936 1485.58 L875.936 1477.43 L860.335 1477.43 L860.335 1472.92 L874.71 1451.02 Z\" fill=\"#000000\" fill-rule=\"nonzero\" fill-opacity=\"1\" /><path clip-path=\"url(#clip160)\" d=\"M1278.76 1466.44 Q1275.62 1466.44 1273.76 1468.59 Q1271.94 1470.74 1271.94 1474.49 Q1271.94 1478.22 1273.76 1480.39 Q1275.62 1482.55 1278.76 1482.55 Q1281.91 1482.55 1283.74 1480.39 Q1285.59 1478.22 1285.59 1474.49 Q1285.59 1470.74 1283.74 1468.59 Q1281.91 1466.44 1278.76 1466.44 M1288.05 1451.78 L1288.05 1456.04 Q1286.29 1455.21 1284.48 1454.77 Q1282.7 1454.33 1280.94 1454.33 Q1276.31 1454.33 1273.86 1457.45 Q1271.43 1460.58 1271.08 1466.9 Q1272.45 1464.89 1274.51 1463.82 Q1276.57 1462.73 1279.04 1462.73 Q1284.25 1462.73 1287.26 1465.9 Q1290.29 1469.05 1290.29 1474.49 Q1290.29 1479.82 1287.14 1483.03 Q1284 1486.25 1278.76 1486.25 Q1272.77 1486.25 1269.6 1481.67 Q1266.43 1477.06 1266.43 1468.33 Q1266.43 1460.14 1270.32 1455.28 Q1274.2 1450.39 1280.76 1450.39 Q1282.51 1450.39 1284.3 1450.74 Q1286.1 1451.09 1288.05 1451.78 Z\" fill=\"#000000\" fill-rule=\"nonzero\" fill-opacity=\"1\" /><path clip-path=\"url(#clip160)\" d=\"M1683.79 1469.17 Q1680.46 1469.17 1678.54 1470.95 Q1676.64 1472.73 1676.64 1475.86 Q1676.64 1478.98 1678.54 1480.77 Q1680.46 1482.55 1683.79 1482.55 Q1687.13 1482.55 1689.05 1480.77 Q1690.97 1478.96 1690.97 1475.86 Q1690.97 1472.73 1689.05 1470.95 Q1687.15 1469.17 1683.79 1469.17 M1679.12 1467.18 Q1676.11 1466.44 1674.42 1464.38 Q1672.75 1462.32 1672.75 1459.35 Q1672.75 1455.21 1675.69 1452.8 Q1678.65 1450.39 1683.79 1450.39 Q1688.95 1450.39 1691.89 1452.8 Q1694.83 1455.21 1694.83 1459.35 Q1694.83 1462.32 1693.14 1464.38 Q1691.48 1466.44 1688.49 1467.18 Q1691.87 1467.96 1693.75 1470.26 Q1695.64 1472.55 1695.64 1475.86 Q1695.64 1480.88 1692.57 1483.57 Q1689.51 1486.25 1683.79 1486.25 Q1678.07 1486.25 1675 1483.57 Q1671.94 1480.88 1671.94 1475.86 Q1671.94 1472.55 1673.84 1470.26 Q1675.74 1467.96 1679.12 1467.18 M1677.4 1459.79 Q1677.4 1462.48 1679.07 1463.98 Q1680.76 1465.49 1683.79 1465.49 Q1686.8 1465.49 1688.49 1463.98 Q1690.2 1462.48 1690.2 1459.79 Q1690.2 1457.11 1688.49 1455.6 Q1686.8 1454.1 1683.79 1454.1 Q1680.76 1454.1 1679.07 1455.6 Q1677.4 1457.11 1677.4 1459.79 Z\" fill=\"#000000\" fill-rule=\"nonzero\" fill-opacity=\"1\" /><path clip-path=\"url(#clip160)\" d=\"M2063.91 1481.64 L2071.55 1481.64 L2071.55 1455.28 L2063.24 1456.95 L2063.24 1452.69 L2071.5 1451.02 L2076.18 1451.02 L2076.18 1481.64 L2083.82 1481.64 L2083.82 1485.58 L2063.91 1485.58 L2063.91 1481.64 Z\" fill=\"#000000\" fill-rule=\"nonzero\" fill-opacity=\"1\" /><path clip-path=\"url(#clip160)\" d=\"M2103.26 1454.1 Q2099.65 1454.1 2097.82 1457.66 Q2096.02 1461.2 2096.02 1468.33 Q2096.02 1475.44 2097.82 1479.01 Q2099.65 1482.55 2103.26 1482.55 Q2106.9 1482.55 2108.7 1479.01 Q2110.53 1475.44 2110.53 1468.33 Q2110.53 1461.2 2108.7 1457.66 Q2106.9 1454.1 2103.26 1454.1 M2103.26 1450.39 Q2109.07 1450.39 2112.13 1455 Q2115.21 1459.58 2115.21 1468.33 Q2115.21 1477.06 2112.13 1481.67 Q2109.07 1486.25 2103.26 1486.25 Q2097.45 1486.25 2094.38 1481.67 Q2091.32 1477.06 2091.32 1468.33 Q2091.32 1459.58 2094.38 1455 Q2097.45 1450.39 2103.26 1450.39 Z\" fill=\"#000000\" fill-rule=\"nonzero\" fill-opacity=\"1\" /><path clip-path=\"url(#clip160)\" d=\"M1164.75 1532.4 L1170.6 1532.4 L1170.6 1568.04 L1164.75 1568.04 L1164.75 1532.4 M1164.75 1518.52 L1170.6 1518.52 L1170.6 1525.93 L1164.75 1525.93 L1164.75 1518.52 Z\" fill=\"#000000\" fill-rule=\"nonzero\" fill-opacity=\"1\" /><path clip-path=\"url(#clip160)\" d=\"M1212.49 1546.53 L1212.49 1568.04 L1206.63 1568.04 L1206.63 1546.72 Q1206.63 1541.66 1204.66 1539.14 Q1202.69 1536.63 1198.74 1536.63 Q1194 1536.63 1191.26 1539.65 Q1188.52 1542.68 1188.52 1547.9 L1188.52 1568.04 L1182.64 1568.04 L1182.64 1532.4 L1188.52 1532.4 L1188.52 1537.93 Q1190.62 1534.72 1193.46 1533.13 Q1196.32 1531.54 1200.05 1531.54 Q1206.19 1531.54 1209.34 1535.36 Q1212.49 1539.14 1212.49 1546.53 Z\" fill=\"#000000\" fill-rule=\"nonzero\" fill-opacity=\"1\" /><path clip-path=\"url(#clip160)\" d=\"M1229.96 1522.27 L1229.96 1532.4 L1242.03 1532.4 L1242.03 1536.95 L1229.96 1536.95 L1229.96 1556.3 Q1229.96 1560.66 1231.14 1561.9 Q1232.35 1563.14 1236.01 1563.14 L1242.03 1563.14 L1242.03 1568.04 L1236.01 1568.04 Q1229.23 1568.04 1226.65 1565.53 Q1224.08 1562.98 1224.08 1556.3 L1224.08 1536.95 L1219.78 1536.95 L1219.78 1532.4 L1224.08 1532.4 L1224.08 1522.27 L1229.96 1522.27 Z\" fill=\"#000000\" fill-rule=\"nonzero\" fill-opacity=\"1\" /><path clip-path=\"url(#clip160)\" d=\"M1280.22 1548.76 L1280.22 1551.62 L1253.29 1551.62 Q1253.68 1557.67 1256.92 1560.85 Q1260.2 1564 1266.03 1564 Q1269.4 1564 1272.55 1563.17 Q1275.73 1562.35 1278.85 1560.69 L1278.85 1566.23 Q1275.7 1567.57 1272.39 1568.27 Q1269.08 1568.97 1265.68 1568.97 Q1257.15 1568.97 1252.15 1564 Q1247.18 1559.04 1247.18 1550.57 Q1247.18 1541.82 1251.89 1536.69 Q1256.64 1531.54 1264.66 1531.54 Q1271.85 1531.54 1276.02 1536.18 Q1280.22 1540.8 1280.22 1548.76 M1274.37 1547.04 Q1274.3 1542.23 1271.66 1539.37 Q1269.05 1536.5 1264.72 1536.5 Q1259.82 1536.5 1256.86 1539.27 Q1253.93 1542.04 1253.49 1547.07 L1274.37 1547.04 Z\" fill=\"#000000\" fill-rule=\"nonzero\" fill-opacity=\"1\" /><path clip-path=\"url(#clip160)\" d=\"M1313.29 1549.81 Q1313.29 1543.44 1310.65 1539.94 Q1308.04 1536.44 1303.3 1536.44 Q1298.59 1536.44 1295.95 1539.94 Q1293.34 1543.44 1293.34 1549.81 Q1293.34 1556.14 1295.95 1559.64 Q1298.59 1563.14 1303.3 1563.14 Q1308.04 1563.14 1310.65 1559.64 Q1313.29 1556.14 1313.29 1549.81 M1319.15 1563.62 Q1319.15 1572.72 1315.11 1577.15 Q1311.06 1581.6 1302.72 1581.6 Q1299.64 1581.6 1296.9 1581.13 Q1294.16 1580.68 1291.58 1579.72 L1291.58 1574.03 Q1294.16 1575.43 1296.68 1576.1 Q1299.19 1576.76 1301.8 1576.76 Q1307.56 1576.76 1310.43 1573.74 Q1313.29 1570.75 1313.29 1564.67 L1313.29 1561.77 Q1311.48 1564.92 1308.64 1566.48 Q1305.81 1568.04 1301.87 1568.04 Q1295.31 1568.04 1291.3 1563.05 Q1287.29 1558.05 1287.29 1549.81 Q1287.29 1541.53 1291.3 1536.53 Q1295.31 1531.54 1301.87 1531.54 Q1305.81 1531.54 1308.64 1533.1 Q1311.48 1534.66 1313.29 1537.81 L1313.29 1532.4 L1319.15 1532.4 L1319.15 1563.62 Z\" fill=\"#000000\" fill-rule=\"nonzero\" fill-opacity=\"1\" /><path clip-path=\"url(#clip160)\" d=\"M1361.7 1548.76 L1361.7 1551.62 L1334.78 1551.62 Q1335.16 1557.67 1338.4 1560.85 Q1341.68 1564 1347.51 1564 Q1350.88 1564 1354.03 1563.17 Q1357.21 1562.35 1360.33 1560.69 L1360.33 1566.23 Q1357.18 1567.57 1353.87 1568.27 Q1350.56 1568.97 1347.16 1568.97 Q1338.63 1568.97 1333.63 1564 Q1328.66 1559.04 1328.66 1550.57 Q1328.66 1541.82 1333.38 1536.69 Q1338.12 1531.54 1346.14 1531.54 Q1353.33 1531.54 1357.5 1536.18 Q1361.7 1540.8 1361.7 1548.76 M1355.85 1547.04 Q1355.78 1542.23 1353.14 1539.37 Q1350.53 1536.5 1346.2 1536.5 Q1341.3 1536.5 1338.34 1539.27 Q1335.41 1542.04 1334.97 1547.07 L1355.85 1547.04 Z\" fill=\"#000000\" fill-rule=\"nonzero\" fill-opacity=\"1\" /><path clip-path=\"url(#clip160)\" d=\"M1391.97 1537.87 Q1390.99 1537.3 1389.81 1537.04 Q1388.66 1536.76 1387.26 1536.76 Q1382.3 1536.76 1379.62 1540 Q1376.98 1543.22 1376.98 1549.27 L1376.98 1568.04 L1371.09 1568.04 L1371.09 1532.4 L1376.98 1532.4 L1376.98 1537.93 Q1378.83 1534.69 1381.79 1533.13 Q1384.75 1531.54 1388.98 1531.54 Q1389.58 1531.54 1390.32 1531.63 Q1391.05 1531.7 1391.94 1531.85 L1391.97 1537.87 Z\" fill=\"#000000\" fill-rule=\"nonzero\" fill-opacity=\"1\" /><polyline clip-path=\"url(#clip162)\" style=\"stroke:#000000; stroke-linecap:round; stroke-linejoin:round; stroke-width:2; stroke-opacity:0.1; fill:none\" points=\"203.964,1384.24 2352.76,1384.24 \"/>\n",
              "<polyline clip-path=\"url(#clip162)\" style=\"stroke:#000000; stroke-linecap:round; stroke-linejoin:round; stroke-width:2; stroke-opacity:0.1; fill:none\" points=\"203.964,1124.63 2352.76,1124.63 \"/>\n",
              "<polyline clip-path=\"url(#clip162)\" style=\"stroke:#000000; stroke-linecap:round; stroke-linejoin:round; stroke-width:2; stroke-opacity:0.1; fill:none\" points=\"203.964,865.017 2352.76,865.017 \"/>\n",
              "<polyline clip-path=\"url(#clip162)\" style=\"stroke:#000000; stroke-linecap:round; stroke-linejoin:round; stroke-width:2; stroke-opacity:0.1; fill:none\" points=\"203.964,605.407 2352.76,605.407 \"/>\n",
              "<polyline clip-path=\"url(#clip162)\" style=\"stroke:#000000; stroke-linecap:round; stroke-linejoin:round; stroke-width:2; stroke-opacity:0.1; fill:none\" points=\"203.964,345.796 2352.76,345.796 \"/>\n",
              "<polyline clip-path=\"url(#clip162)\" style=\"stroke:#000000; stroke-linecap:round; stroke-linejoin:round; stroke-width:2; stroke-opacity:0.1; fill:none\" points=\"203.964,86.1857 2352.76,86.1857 \"/>\n",
              "<polyline clip-path=\"url(#clip160)\" style=\"stroke:#000000; stroke-linecap:round; stroke-linejoin:round; stroke-width:4; stroke-opacity:1; fill:none\" points=\"203.964,1423.18 203.964,47.2441 \"/>\n",
              "<polyline clip-path=\"url(#clip160)\" style=\"stroke:#000000; stroke-linecap:round; stroke-linejoin:round; stroke-width:4; stroke-opacity:1; fill:none\" points=\"203.964,1384.24 222.861,1384.24 \"/>\n",
              "<polyline clip-path=\"url(#clip160)\" style=\"stroke:#000000; stroke-linecap:round; stroke-linejoin:round; stroke-width:4; stroke-opacity:1; fill:none\" points=\"203.964,1124.63 222.861,1124.63 \"/>\n",
              "<polyline clip-path=\"url(#clip160)\" style=\"stroke:#000000; stroke-linecap:round; stroke-linejoin:round; stroke-width:4; stroke-opacity:1; fill:none\" points=\"203.964,865.017 222.861,865.017 \"/>\n",
              "<polyline clip-path=\"url(#clip160)\" style=\"stroke:#000000; stroke-linecap:round; stroke-linejoin:round; stroke-width:4; stroke-opacity:1; fill:none\" points=\"203.964,605.407 222.861,605.407 \"/>\n",
              "<polyline clip-path=\"url(#clip160)\" style=\"stroke:#000000; stroke-linecap:round; stroke-linejoin:round; stroke-width:4; stroke-opacity:1; fill:none\" points=\"203.964,345.796 222.861,345.796 \"/>\n",
              "<polyline clip-path=\"url(#clip160)\" style=\"stroke:#000000; stroke-linecap:round; stroke-linejoin:round; stroke-width:4; stroke-opacity:1; fill:none\" points=\"203.964,86.1857 222.861,86.1857 \"/>\n",
              "<path clip-path=\"url(#clip160)\" d=\"M156.019 1370.04 Q152.408 1370.04 150.579 1373.6 Q148.774 1377.14 148.774 1384.27 Q148.774 1391.38 150.579 1394.94 Q152.408 1398.49 156.019 1398.49 Q159.653 1398.49 161.459 1394.94 Q163.288 1391.38 163.288 1384.27 Q163.288 1377.14 161.459 1373.6 Q159.653 1370.04 156.019 1370.04 M156.019 1366.33 Q161.829 1366.33 164.885 1370.94 Q167.964 1375.52 167.964 1384.27 Q167.964 1393 164.885 1397.61 Q161.829 1402.19 156.019 1402.19 Q150.209 1402.19 147.13 1397.61 Q144.075 1393 144.075 1384.27 Q144.075 1375.52 147.13 1370.94 Q150.209 1366.33 156.019 1366.33 Z\" fill=\"#000000\" fill-rule=\"nonzero\" fill-opacity=\"1\" /><path clip-path=\"url(#clip160)\" d=\"M147.061 1107.35 L165.417 1107.35 L165.417 1111.28 L151.343 1111.28 L151.343 1119.76 Q152.362 1119.41 153.38 1119.25 Q154.399 1119.06 155.417 1119.06 Q161.204 1119.06 164.584 1122.23 Q167.964 1125.4 167.964 1130.82 Q167.964 1136.4 164.491 1139.5 Q161.019 1142.58 154.7 1142.58 Q152.524 1142.58 150.255 1142.21 Q148.01 1141.84 145.603 1141.1 L145.603 1136.4 Q147.686 1137.53 149.908 1138.09 Q152.13 1138.64 154.607 1138.64 Q158.612 1138.64 160.95 1136.54 Q163.288 1134.43 163.288 1130.82 Q163.288 1127.21 160.95 1125.1 Q158.612 1123 154.607 1123 Q152.732 1123 150.857 1123.41 Q149.005 1123.83 147.061 1124.71 L147.061 1107.35 Z\" fill=\"#000000\" fill-rule=\"nonzero\" fill-opacity=\"1\" /><path clip-path=\"url(#clip160)\" d=\"M116.668 878.362 L124.306 878.362 L124.306 851.996 L115.996 853.663 L115.996 849.404 L124.26 847.737 L128.936 847.737 L128.936 878.362 L136.575 878.362 L136.575 882.297 L116.668 882.297 L116.668 878.362 Z\" fill=\"#000000\" fill-rule=\"nonzero\" fill-opacity=\"1\" /><path clip-path=\"url(#clip160)\" d=\"M156.019 850.816 Q152.408 850.816 150.579 854.381 Q148.774 857.922 148.774 865.052 Q148.774 872.158 150.579 875.723 Q152.408 879.265 156.019 879.265 Q159.653 879.265 161.459 875.723 Q163.288 872.158 163.288 865.052 Q163.288 857.922 161.459 854.381 Q159.653 850.816 156.019 850.816 M156.019 847.112 Q161.829 847.112 164.885 851.719 Q167.964 856.302 167.964 865.052 Q167.964 873.779 164.885 878.385 Q161.829 882.969 156.019 882.969 Q150.209 882.969 147.13 878.385 Q144.075 873.779 144.075 865.052 Q144.075 856.302 147.13 851.719 Q150.209 847.112 156.019 847.112 Z\" fill=\"#000000\" fill-rule=\"nonzero\" fill-opacity=\"1\" /><path clip-path=\"url(#clip160)\" d=\"M117.663 618.752 L125.302 618.752 L125.302 592.386 L116.992 594.053 L116.992 589.793 L125.255 588.127 L129.931 588.127 L129.931 618.752 L137.57 618.752 L137.57 622.687 L117.663 622.687 L117.663 618.752 Z\" fill=\"#000000\" fill-rule=\"nonzero\" fill-opacity=\"1\" /><path clip-path=\"url(#clip160)\" d=\"M147.061 588.127 L165.417 588.127 L165.417 592.062 L151.343 592.062 L151.343 600.534 Q152.362 600.187 153.38 600.025 Q154.399 599.84 155.417 599.84 Q161.204 599.84 164.584 603.011 Q167.964 606.182 167.964 611.599 Q167.964 617.177 164.491 620.279 Q161.019 623.358 154.7 623.358 Q152.524 623.358 150.255 622.988 Q148.01 622.617 145.603 621.877 L145.603 617.177 Q147.686 618.312 149.908 618.867 Q152.13 619.423 154.607 619.423 Q158.612 619.423 160.95 617.316 Q163.288 615.21 163.288 611.599 Q163.288 607.988 160.95 605.881 Q158.612 603.775 154.607 603.775 Q152.732 603.775 150.857 604.191 Q149.005 604.608 147.061 605.488 L147.061 588.127 Z\" fill=\"#000000\" fill-rule=\"nonzero\" fill-opacity=\"1\" /><path clip-path=\"url(#clip160)\" d=\"M119.885 359.141 L136.204 359.141 L136.204 363.076 L114.26 363.076 L114.26 359.141 Q116.922 356.386 121.505 351.757 Q126.112 347.104 127.292 345.761 Q129.538 343.238 130.417 341.502 Q131.32 339.743 131.32 338.053 Q131.32 335.299 129.376 333.562 Q127.455 331.826 124.353 331.826 Q122.154 331.826 119.7 332.59 Q117.269 333.354 114.492 334.905 L114.492 330.183 Q117.316 329.049 119.769 328.47 Q122.223 327.891 124.26 327.891 Q129.63 327.891 132.825 330.576 Q136.019 333.262 136.019 337.752 Q136.019 339.882 135.209 341.803 Q134.422 343.701 132.316 346.294 Q131.737 346.965 128.635 350.183 Q125.533 353.377 119.885 359.141 Z\" fill=\"#000000\" fill-rule=\"nonzero\" fill-opacity=\"1\" /><path clip-path=\"url(#clip160)\" d=\"M156.019 331.595 Q152.408 331.595 150.579 335.16 Q148.774 338.701 148.774 345.831 Q148.774 352.937 150.579 356.502 Q152.408 360.044 156.019 360.044 Q159.653 360.044 161.459 356.502 Q163.288 352.937 163.288 345.831 Q163.288 338.701 161.459 335.16 Q159.653 331.595 156.019 331.595 M156.019 327.891 Q161.829 327.891 164.885 332.498 Q167.964 337.081 167.964 345.831 Q167.964 354.558 164.885 359.164 Q161.829 363.747 156.019 363.747 Q150.209 363.747 147.13 359.164 Q144.075 354.558 144.075 345.831 Q144.075 337.081 147.13 332.498 Q150.209 327.891 156.019 327.891 Z\" fill=\"#000000\" fill-rule=\"nonzero\" fill-opacity=\"1\" /><path clip-path=\"url(#clip160)\" d=\"M120.88 99.5305 L137.2 99.5305 L137.2 103.466 L115.256 103.466 L115.256 99.5305 Q117.918 96.7759 122.501 92.1463 Q127.107 87.4935 128.288 86.151 Q130.533 83.6278 131.413 81.8917 Q132.316 80.1325 132.316 78.4427 Q132.316 75.688 130.371 73.9519 Q128.45 72.2158 125.348 72.2158 Q123.149 72.2158 120.695 72.9797 Q118.265 73.7436 115.487 75.2945 L115.487 70.5723 Q118.311 69.4381 120.765 68.8594 Q123.218 68.2807 125.255 68.2807 Q130.626 68.2807 133.82 70.9658 Q137.015 73.651 137.015 78.1417 Q137.015 80.2714 136.204 82.1926 Q135.417 84.0908 133.311 86.6834 Q132.732 87.3546 129.63 90.5722 Q126.529 93.7667 120.88 99.5305 Z\" fill=\"#000000\" fill-rule=\"nonzero\" fill-opacity=\"1\" /><path clip-path=\"url(#clip160)\" d=\"M147.061 68.9057 L165.417 68.9057 L165.417 72.8408 L151.343 72.8408 L151.343 81.313 Q152.362 80.9658 153.38 80.8038 Q154.399 80.6186 155.417 80.6186 Q161.204 80.6186 164.584 83.7899 Q167.964 86.9611 167.964 92.3778 Q167.964 97.9564 164.491 101.058 Q161.019 104.137 154.7 104.137 Q152.524 104.137 150.255 103.767 Q148.01 103.396 145.603 102.655 L145.603 97.9564 Q147.686 99.0907 149.908 99.6462 Q152.13 100.202 154.607 100.202 Q158.612 100.202 160.95 98.0953 Q163.288 95.9889 163.288 92.3778 Q163.288 88.7667 160.95 86.6602 Q158.612 84.5537 154.607 84.5537 Q152.732 84.5537 150.857 84.9704 Q149.005 85.3871 147.061 86.2667 L147.061 68.9057 Z\" fill=\"#000000\" fill-rule=\"nonzero\" fill-opacity=\"1\" /><path clip-path=\"url(#clip160)\" d=\"M67.3143 808.561 Q73.68 811.043 75.6216 813.399 Q77.5631 815.754 77.5631 819.701 L77.5631 824.38 L72.6615 824.38 L72.6615 820.942 Q72.6615 818.523 71.5157 817.186 Q70.3699 815.85 66.1048 814.226 L63.4312 813.176 L28.3562 827.594 L28.3562 821.388 L56.238 810.248 L28.3562 799.108 L28.3562 792.901 L67.3143 808.561 Z\" fill=\"#000000\" fill-rule=\"nonzero\" fill-opacity=\"1\" /><path clip-path=\"url(#clip160)\" d=\"M46.0847 747.896 Q46.0847 754.993 47.7079 757.731 Q49.3312 760.468 53.2461 760.468 Q56.3653 760.468 58.2114 758.431 Q60.0256 756.362 60.0256 752.829 Q60.0256 747.959 56.5881 745.031 Q53.1188 742.071 47.3897 742.071 L46.0847 742.071 L46.0847 747.896 M43.6657 736.215 L64.0042 736.215 L64.0042 742.071 L58.5933 742.071 Q61.8398 744.076 63.3994 747.068 Q64.9272 750.06 64.9272 754.389 Q64.9272 759.863 61.8716 763.11 Q58.7843 766.324 53.6281 766.324 Q47.6125 766.324 44.5569 762.314 Q41.5014 758.272 41.5014 750.283 L41.5014 742.071 L40.9285 742.071 Q36.8862 742.071 34.6901 744.745 Q32.4621 747.386 32.4621 752.192 Q32.4621 755.248 33.1941 758.144 Q33.9262 761.041 35.3903 763.714 L29.9795 763.714 Q28.7381 760.5 28.1334 757.476 Q27.4968 754.452 27.4968 751.588 Q27.4968 743.853 31.5072 740.034 Q35.5176 736.215 43.6657 736.215 Z\" fill=\"#000000\" fill-rule=\"nonzero\" fill-opacity=\"1\" /><path clip-path=\"url(#clip160)\" d=\"M28.3562 694.519 L45.7028 707.41 L64.0042 693.851 L64.0042 700.758 L49.9996 711.134 L64.0042 721.51 L64.0042 728.417 L45.3526 714.571 L28.3562 727.239 L28.3562 720.332 L41.0558 710.879 L28.3562 701.426 L28.3562 694.519 Z\" fill=\"#000000\" fill-rule=\"nonzero\" fill-opacity=\"1\" /><path clip-path=\"url(#clip160)\" d=\"M28.3562 685.575 L28.3562 679.719 L64.0042 679.719 L64.0042 685.575 L28.3562 685.575 M14.479 685.575 L14.479 679.719 L21.895 679.719 L21.895 685.575 L14.479 685.575 Z\" fill=\"#000000\" fill-rule=\"nonzero\" fill-opacity=\"1\" /><path clip-path=\"url(#clip160)\" d=\"M29.4065 644.739 L34.9447 644.739 Q33.6716 647.222 33.035 649.896 Q32.3984 652.569 32.3984 655.434 Q32.3984 659.794 33.7352 661.99 Q35.072 664.155 37.7456 664.155 Q39.7826 664.155 40.9603 662.595 Q42.1061 661.036 43.1565 656.325 L43.6021 654.32 Q44.9389 648.081 47.3897 645.471 Q49.8086 642.83 54.1691 642.83 Q59.1344 642.83 62.0308 646.776 Q64.9272 650.691 64.9272 657.566 Q64.9272 660.431 64.3543 663.55 Q63.8132 666.637 62.6992 670.075 L56.6518 670.075 Q58.3387 666.828 59.198 663.677 Q60.0256 660.526 60.0256 657.439 Q60.0256 653.301 58.6251 651.073 Q57.1929 648.845 54.6147 648.845 Q52.2276 648.845 50.9545 650.468 Q49.6813 652.06 48.5037 657.503 L48.0262 659.54 Q46.8804 664.982 44.5251 667.401 Q42.138 669.82 38.0002 669.82 Q32.9713 669.82 30.2341 666.255 Q27.4968 662.691 27.4968 656.134 Q27.4968 652.887 27.9743 650.023 Q28.4517 647.158 29.4065 644.739 Z\" fill=\"#000000\" fill-rule=\"nonzero\" fill-opacity=\"1\" /><polyline clip-path=\"url(#clip162)\" style=\"stroke:#009af9; stroke-linecap:round; stroke-linejoin:round; stroke-width:4; stroke-opacity:1; fill:none\" points=\"264.778,86.1857 467.495,553.485 670.211,916.939 872.927,1176.55 1075.64,1332.32 1278.36,1384.24 1481.08,1332.32 1683.79,1176.55 1886.51,916.939 2089.22,553.485 2291.94,86.1857 \"/>\n",
              "<path clip-path=\"url(#clip160)\" d=\"M2013.82 1377.32 L2281.13 1377.32 L2281.13 1273.64 L2013.82 1273.64  Z\" fill=\"#ffffff\" fill-rule=\"evenodd\" fill-opacity=\"1\"/>\n",
              "<polyline clip-path=\"url(#clip160)\" style=\"stroke:#000000; stroke-linecap:round; stroke-linejoin:round; stroke-width:4; stroke-opacity:1; fill:none\" points=\"2013.82,1377.32 2281.13,1377.32 2281.13,1273.64 2013.82,1273.64 2013.82,1377.32 \"/>\n",
              "<polyline clip-path=\"url(#clip160)\" style=\"stroke:#009af9; stroke-linecap:round; stroke-linejoin:round; stroke-width:4; stroke-opacity:1; fill:none\" points=\"2037.7,1325.48 2180.95,1325.48 \"/>\n",
              "<path clip-path=\"url(#clip160)\" d=\"M2218.67 1345.16 Q2216.86 1349.79 2215.15 1351.2 Q2213.43 1352.62 2210.56 1352.62 L2207.16 1352.62 L2207.16 1349.05 L2209.66 1349.05 Q2211.42 1349.05 2212.39 1348.22 Q2213.37 1347.38 2214.55 1344.28 L2215.31 1342.34 L2204.82 1316.83 L2209.34 1316.83 L2217.44 1337.11 L2225.54 1316.83 L2230.06 1316.83 L2218.67 1345.16 Z\" fill=\"#000000\" fill-rule=\"nonzero\" fill-opacity=\"1\" /><path clip-path=\"url(#clip160)\" d=\"M2237.35 1338.82 L2244.99 1338.82 L2244.99 1312.45 L2236.68 1314.12 L2236.68 1309.86 L2244.94 1308.2 L2249.62 1308.2 L2249.62 1338.82 L2257.25 1338.82 L2257.25 1342.76 L2237.35 1342.76 L2237.35 1338.82 Z\" fill=\"#000000\" fill-rule=\"nonzero\" fill-opacity=\"1\" /></svg>\n"
            ]
          },
          "metadata": {},
          "output_type": "display_data"
        }
      ],
      "source": [
        "#insert your code here\n",
        "using Plots\n",
        "function square_x(x)\n",
        "    output = x.^2\n",
        "    plot(output)\n",
        "    xlabel!(\"integer\")\n",
        "    ylabel!(\"y axis\")\n",
        "end\n",
        "\n",
        "square_x([-5,-4,-3,-2,-1,0,1,2,3,4,5])"
      ]
    },
    {
      "cell_type": "markdown",
      "id": "eaca6031-e691-4019-9986-e7127b3df842",
      "metadata": {},
      "source": [
        "## Commit and Push Your Changes to GitHub\n",
        "\n",
        "After completing the previous two exercises, commit your solution file\n",
        "(notebook or otherwise) and push to GitHub. Use an informative commit\n",
        "message which makes it clear what changes you’ve made. The specific\n",
        "workflow for this will vary depending on how you’re writing up your\n",
        "solutions; please search for specifics and ask for help as needed!\n",
        "\n",
        "> **Useful Commit Sizes**\n",
        ">\n",
        "> Ideally, you’d commit whenever you make a “substantial” enough change\n",
        "> that you want to lock in, such as writing the core code for a problem\n",
        "> or completing a problem, if you’re preparing code to be used elsewhere\n",
        "> (by yourself or others), or if you want to ask for help. `git` lets\n",
        "> you revert changes back to a previous commit, so it’s easy to undo\n",
        "> changes or updates which broke something that was previously working,\n",
        "> so changing too many things at once can make it hard to keep track of\n",
        "> what worked when.\n",
        ">\n",
        "> But in this case, go ahead and just commit after finishing the\n",
        "> problems.\n",
        "\n",
        "Push the repository with these commits to GitHub and take a screenshot\n",
        "of the repository page\n",
        "(`https://github.com/BEE4750-FA24/<username>/lab01`) which shows the\n",
        "updated repository. Include that screenshot in your submission as the\n",
        "solution to this problem.\n",
        "\n",
        "## Submitting PDF\n",
        "\n",
        "> **Important**\n",
        ">\n",
        "> These submission instructions will not be repeated on future\n",
        "> assignments!\n",
        "\n",
        "Export your writeup as a PDF and submit it to the “Lab 1” assignment on\n",
        "Gradescope. Make sure that you tag pages corresponding to relevant\n",
        "problems to avoid a 10% penalty.\n",
        "\n",
        "> **Printing Code to PDF**\n",
        ">\n",
        "> You are not required to submit your code when submitting assignments.\n",
        "> However, when printing a notebook to PDF, long lines will run off the\n",
        "> edge of code cells, which may result in comments or code being hidden.\n",
        "> If you see this, go back to the notebook and break up long lines into\n",
        "> shorter onces (for example, see the comment in the above code cell) to\n",
        "> ensure key parts of your results aren’t missing."
      ]
    }
  ],
  "metadata": {
    "kernel_info": {
      "name": "julia"
    },
    "kernelspec": {
      "display_name": "Julia 1.10.4",
      "language": "julia",
      "name": "julia-1.10"
    },
    "language_info": {
      "file_extension": ".jl",
      "mimetype": "application/julia",
      "name": "julia",
      "version": "1.10.4"
    }
  },
  "nbformat": 4,
  "nbformat_minor": 5
}
